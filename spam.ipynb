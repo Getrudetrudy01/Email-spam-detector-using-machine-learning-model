{
 "cells": [
  {
   "cell_type": "code",
   "execution_count": null,
   "id": "0b7b01f1-6e4b-4ffb-9aae-800f7819f175",
   "metadata": {},
   "outputs": [],
   "source": [
    "#working on my fourth task on the spam classification and detection as a data science intern in oasis infobyte"
   ]
  },
  {
   "cell_type": "code",
   "execution_count": null,
   "id": "5f95cb75-3634-4d3d-814f-a260d5ad5bdc",
   "metadata": {},
   "outputs": [],
   "source": [
    "#importing the necessary libraries\n",
    "import pandas as pd\n",
    "import numpy as np\n",
    "import seaborn as sns\n",
    "import matplotlib.pyplot as plt"
   ]
  },
  {
   "cell_type": "code",
   "execution_count": null,
   "id": "5dcd1afd-d623-426d-bdce-9b117fe6bb11",
   "metadata": {},
   "outputs": [],
   "source": [
    "#importing the dataset i will be using for the work\n",
    "spam = pd.read_csv(\"spam.csv\", encoding = 'latin1')\n",
    "spam.head(10)"
   ]
  },
  {
   "cell_type": "code",
   "execution_count": null,
   "id": "80072f82-1b4d-4e9b-b4c2-ce200208009b",
   "metadata": {},
   "outputs": [],
   "source": [
    "spam.shape"
   ]
  },
  {
   "cell_type": "raw",
   "id": "e4a2803d-ce1b-449a-afd4-671757d25ad2",
   "metadata": {},
   "source": [
    "DATA CLEANING"
   ]
  },
  {
   "cell_type": "code",
   "execution_count": null,
   "id": "9fcb3d49-5236-4027-9577-67399f20ca78",
   "metadata": {},
   "outputs": [],
   "source": [
    "spam.info()"
   ]
  },
  {
   "cell_type": "code",
   "execution_count": null,
   "id": "7e04061c-03e0-4417-9373-a66f75cc51df",
   "metadata": {},
   "outputs": [],
   "source": [
    "spam.describe()"
   ]
  },
  {
   "cell_type": "code",
   "execution_count": null,
   "id": "265af6e7-062d-4e80-8dce-e1a226fbac73",
   "metadata": {},
   "outputs": [],
   "source": [
    "spam.drop(columns=['Unnamed: 2','Unnamed: 3','Unnamed: 4'], inplace=True)"
   ]
  },
  {
   "cell_type": "code",
   "execution_count": null,
   "id": "c6137ca9-8f57-4436-b3b4-b94428f82346",
   "metadata": {},
   "outputs": [],
   "source": [
    "spam.columns"
   ]
  },
  {
   "cell_type": "code",
   "execution_count": null,
   "id": "dd6847e1-4efa-4cf9-8433-ae7e2d32a548",
   "metadata": {},
   "outputs": [],
   "source": [
    "spam.rename(columns={'v1':'target','v2':'text'},inplace=True)\n",
    "spam.head()"
   ]
  },
  {
   "cell_type": "code",
   "execution_count": null,
   "id": "55b483c8-2aab-4d87-b23a-0940efe627fa",
   "metadata": {},
   "outputs": [],
   "source": [
    "from sklearn.preprocessing import LabelEncoder\n",
    "encoder = LabelEncoder()"
   ]
  },
  {
   "cell_type": "code",
   "execution_count": null,
   "id": "9a17e581-084d-4768-b90e-d7c63bbe2e1e",
   "metadata": {},
   "outputs": [],
   "source": [
    "spam['target'] = encoder.fit_transform(spam['target'])\n",
    "spam.head()"
   ]
  },
  {
   "cell_type": "code",
   "execution_count": null,
   "id": "8d931fcc-e42c-4786-bb82-5dfa4326962b",
   "metadata": {},
   "outputs": [],
   "source": [
    "#checking for empty columns\n",
    "spam.isnull().sum()"
   ]
  },
  {
   "cell_type": "code",
   "execution_count": null,
   "id": "cd6e3678-0ded-42de-9d05-5ea29ea36f9e",
   "metadata": {},
   "outputs": [],
   "source": [
    "#checking for the duplicated sum\n",
    "spam.duplicated().sum()"
   ]
  },
  {
   "cell_type": "code",
   "execution_count": null,
   "id": "8b7f42c1-985f-4eb7-be67-b2af746a2686",
   "metadata": {},
   "outputs": [],
   "source": [
    "spam = spam.drop_duplicates(keep = 'first')"
   ]
  },
  {
   "cell_type": "code",
   "execution_count": null,
   "id": "122882f8-23ec-4a9e-8364-b31ddc188c18",
   "metadata": {},
   "outputs": [],
   "source": [
    "spam.duplicated().sum()"
   ]
  },
  {
   "cell_type": "code",
   "execution_count": null,
   "id": "9d274c93-d509-4f4c-81c2-51ac72205135",
   "metadata": {},
   "outputs": [],
   "source": [
    "spam.shape"
   ]
  },
  {
   "cell_type": "raw",
   "id": "5348df1b-98f2-4a82-a70b-4862247044e3",
   "metadata": {},
   "source": [
    "PERFORMING EXPLORATORY DATA ANALYSIS"
   ]
  },
  {
   "cell_type": "code",
   "execution_count": null,
   "id": "d310b297-9808-4477-9fd7-3fd93d69e340",
   "metadata": {},
   "outputs": [],
   "source": [
    "spam['target'].value_counts()"
   ]
  },
  {
   "cell_type": "code",
   "execution_count": null,
   "id": "1d73a91e-876d-4bd9-b1a7-31066ab8b9a6",
   "metadata": {},
   "outputs": [],
   "source": [
    "import matplotlib.pyplot as plt\n",
    "plt.pie(spam['target'].value_counts(), labels=['ham','spam'],autopct=\"%0.2f\")\n",
    "plt.show()"
   ]
  },
  {
   "cell_type": "code",
   "execution_count": null,
   "id": "cbb903ab-eb97-45ad-bf7f-6eff02b9fcda",
   "metadata": {},
   "outputs": [],
   "source": [
    "import nltk"
   ]
  },
  {
   "cell_type": "code",
   "execution_count": null,
   "id": "30cebb5a-2e0b-4c4c-ba31-1ec443773ee2",
   "metadata": {},
   "outputs": [],
   "source": [
    "# this calculates the number of characters present in a text and then creates a variable called num_characters and assigns each value to it\n",
    "spam['num_characters'] = spam['text'].apply(len)"
   ]
  },
  {
   "cell_type": "code",
   "execution_count": null,
   "id": "c6a3bc1d-a37b-464d-9985-c5a5c6eb8467",
   "metadata": {},
   "outputs": [],
   "source": [
    "spam.head()"
   ]
  },
  {
   "cell_type": "code",
   "execution_count": null,
   "id": "365ffe64-295b-4c93-acf3-e57f13613eac",
   "metadata": {},
   "outputs": [],
   "source": [
    "nltk.download('punkt')"
   ]
  },
  {
   "cell_type": "code",
   "execution_count": null,
   "id": "03221f74-3a3e-4098-9d08-37830629ad00",
   "metadata": {},
   "outputs": [],
   "source": [
    "# num of words\n",
    "spam['num_words'] = spam['text'].apply(lambda x:len(nltk.word_tokenize(x)))\n"
   ]
  },
  {
   "cell_type": "code",
   "execution_count": null,
   "id": "96a7e77e-965b-4158-8228-4f937ae12f1e",
   "metadata": {},
   "outputs": [],
   "source": [
    "spam.head()"
   ]
  },
  {
   "cell_type": "code",
   "execution_count": null,
   "id": "0f869860-55a2-4646-8e37-70214b9d0c17",
   "metadata": {},
   "outputs": [],
   "source": [
    "# num of sentences\n",
    "spam['num_sentences'] = spam['text'].apply(lambda x:len(nltk.sent_tokenize(x)))"
   ]
  },
  {
   "cell_type": "code",
   "execution_count": null,
   "id": "7058ea4c-b03e-4aa9-b3f9-30577c0ed7a1",
   "metadata": {},
   "outputs": [],
   "source": [
    "spam.head()"
   ]
  },
  {
   "cell_type": "code",
   "execution_count": null,
   "id": "0c2ddb1a-515c-48a1-9c7d-29be9c7c84b2",
   "metadata": {},
   "outputs": [],
   "source": [
    "spam[['num_characters','num_words','num_sentences']].describe()"
   ]
  },
  {
   "cell_type": "code",
   "execution_count": null,
   "id": "12a937cc-3347-4cce-9dfb-c44692168afa",
   "metadata": {},
   "outputs": [],
   "source": [
    "spam[spam['target'] == 0][['num_characters','num_words','num_sentences']].describe()"
   ]
  },
  {
   "cell_type": "code",
   "execution_count": null,
   "id": "6276caef-09f2-4c02-a9ec-c62de35e33bf",
   "metadata": {},
   "outputs": [],
   "source": [
    "spam[spam['target'] == 1][['num_characters','num_words','num_sentences']].describe()"
   ]
  },
  {
   "cell_type": "code",
   "execution_count": null,
   "id": "7ba0c37c-a113-4cb1-9182-a8e862815a1d",
   "metadata": {},
   "outputs": [],
   "source": [
    "plt.figure(figsize=(12,6))\n",
    "sns.histplot(spam[spam['target'] == 0]['num_characters'])\n",
    "sns.histplot(spam[spam['target'] == 1]['num_characters'],color='red')"
   ]
  },
  {
   "cell_type": "code",
   "execution_count": null,
   "id": "caac0a62-1085-4040-965e-cac72585c0f4",
   "metadata": {},
   "outputs": [],
   "source": [
    "plt.figure(figsize=(12,6))\n",
    "sns.histplot(spam[spam['target'] == 0]['num_words'])\n",
    "sns.histplot(spam[spam['target'] == 1]['num_words'],color='red')"
   ]
  },
  {
   "cell_type": "code",
   "execution_count": null,
   "id": "405ab413-3f8a-455b-9f7e-6c579b869e5c",
   "metadata": {},
   "outputs": [],
   "source": [
    "sns.pairplot(spam,hue='target')"
   ]
  },
  {
   "cell_type": "code",
   "execution_count": null,
   "id": "b209d754-0c46-4f1c-b4e3-fbea8a109d2b",
   "metadata": {},
   "outputs": [],
   "source": [
    "numeric_values = spam.select_dtypes( include = ['number'])\n",
    "sns.heatmap(numeric_values.corr(),annot=True)"
   ]
  },
  {
   "cell_type": "raw",
   "id": "230bf17f-eeae-441a-9a09-554a793fb96c",
   "metadata": {},
   "source": [
    "Data Preprocessing\n",
    "Lower case\n",
    "Tokenization\n",
    "Removing special characters\n",
    "Removing stop words and punctuation\n",
    "Stemming"
   ]
  },
  {
   "cell_type": "code",
   "execution_count": null,
   "id": "db234b4e-be54-4e6e-8279-eb1f2651f318",
   "metadata": {},
   "outputs": [],
   "source": [
    "import nltk\n",
    "from nltk.corpus import stopwords\n",
    "from nltk.stem.porter import PorterStemmer\n",
    "import string"
   ]
  },
  {
   "cell_type": "code",
   "execution_count": null,
   "id": "677fd390-3b3a-43e1-a61d-846d37be9f67",
   "metadata": {},
   "outputs": [],
   "source": [
    "nltk.download('punkt')\n",
    "nltk.download('stopwords')"
   ]
  },
  {
   "cell_type": "code",
   "execution_count": null,
   "id": "262321d3-e607-4581-b08e-e13ff4346114",
   "metadata": {},
   "outputs": [],
   "source": [
    "def transform_text(text):\n",
    "    ps = PorterStemmer()\n",
    "    text = text.lower()\n",
    "    text = nltk.word_tokenize(text)\n",
    "    \n",
    "    y = []\n",
    "    for i in text:\n",
    "        if i.isalnum():\n",
    "            y.append(i)\n",
    "    \n",
    "    text = y[:]\n",
    "    y.clear()\n",
    "    \n",
    "    for i in text:\n",
    "        if i not in stopwords.words('english') and i not in string.punctuation:\n",
    "            y.append(i)\n",
    "            \n",
    "    text = y[:]\n",
    "    y.clear()\n",
    "    \n",
    "    for i in text:\n",
    "        y.append(ps.stem(i))\n",
    "    \n",
    "    return \" \".join(y)"
   ]
  },
  {
   "cell_type": "code",
   "execution_count": null,
   "id": "383d3f22-d58b-4682-abe3-dfaee0490ecd",
   "metadata": {},
   "outputs": [],
   "source": [
    "transformed_text = transform_text(\"I'm gonna be home soon and i don't want to talk about this stuff anymore tonight, k? I've cried enough today.\")\n",
    "print(transformed_text)"
   ]
  },
  {
   "cell_type": "code",
   "execution_count": null,
   "id": "92543d10-d7ce-44ed-9891-92d847a8f6ad",
   "metadata": {},
   "outputs": [],
   "source": [
    "spam['text'][10]"
   ]
  },
  {
   "cell_type": "code",
   "execution_count": null,
   "id": "6cb6c0c4-e20d-441a-8245-0347eafbd80b",
   "metadata": {},
   "outputs": [],
   "source": [
    "ps = PorterStemmer()\n",
    "ps.stem('loving')"
   ]
  },
  {
   "cell_type": "code",
   "execution_count": null,
   "id": "71063fdc-8596-46e4-b09f-9dc1080840a4",
   "metadata": {},
   "outputs": [],
   "source": [
    "spam['transformed_text'] = spam['text'].apply(transform_text)"
   ]
  },
  {
   "cell_type": "code",
   "execution_count": null,
   "id": "0ae824a1-2eb5-4ce8-96b6-1bc84f5f5ac5",
   "metadata": {},
   "outputs": [],
   "source": [
    "spam.head()"
   ]
  },
  {
   "cell_type": "code",
   "execution_count": null,
   "id": "c81409eb-8246-42ae-bef7-8c583996f5f1",
   "metadata": {},
   "outputs": [],
   "source": [
    "from wordcloud import WordCloud\n",
    "wc = WordCloud(width=500,height=500,min_font_size=10,background_color='white')"
   ]
  },
  {
   "cell_type": "code",
   "execution_count": null,
   "id": "43909e0e-9e17-4b11-ba8a-a7cb55c7de5f",
   "metadata": {},
   "outputs": [],
   "source": [
    "spam_wc = wc.generate(spam[spam['target'] == 1]['transformed_text'].str.cat(sep=\" \"))"
   ]
  },
  {
   "cell_type": "code",
   "execution_count": null,
   "id": "6742eb95-40e3-49fc-b481-6721221aefb7",
   "metadata": {},
   "outputs": [],
   "source": [
    "plt.figure(figsize=(15,6))\n",
    "plt.imshow(spam_wc)"
   ]
  },
  {
   "cell_type": "code",
   "execution_count": null,
   "id": "7f1c4805-8f1c-4a1f-97de-b5372b315a04",
   "metadata": {},
   "outputs": [],
   "source": [
    "ham_wc = wc.generate(spam[spam['target'] == 0]['transformed_text'].str.cat(sep=\" \"))\n",
    "plt.figure(figsize=(15,6))\n",
    "plt.imshow(ham_wc)"
   ]
  },
  {
   "cell_type": "code",
   "execution_count": null,
   "id": "7c7e4f99-f1b7-4100-90f8-66e52466a82e",
   "metadata": {},
   "outputs": [],
   "source": [
    "spam.head()"
   ]
  },
  {
   "cell_type": "code",
   "execution_count": null,
   "id": "e5193211-f2bd-45a9-a1fb-6638a63172dc",
   "metadata": {},
   "outputs": [],
   "source": [
    "spam_corpus = []\n",
    "for msg in spam[spam['target'] == 1]['transformed_text'].tolist():\n",
    "    for word in msg.split():\n",
    "        spam_corpus.append(word)"
   ]
  },
  {
   "cell_type": "code",
   "execution_count": null,
   "id": "c133b69f-8499-4a1c-9f7c-7cd8406b3c03",
   "metadata": {},
   "outputs": [],
   "source": [
    "len(spam_corpus)"
   ]
  },
  {
   "cell_type": "code",
   "execution_count": null,
   "id": "399f3de2-22fe-405d-8284-d84dee7bb72f",
   "metadata": {},
   "outputs": [],
   "source": [
    "from collections import Counter\n",
    "counter = Counter(spam_corpus)\n",
    "common_elements = counter.most_common(30)\n",
    "df_common_elements = pd.DataFrame(common_elements, columns=['Element', 'Count'])"
   ]
  },
  {
   "cell_type": "code",
   "execution_count": null,
   "id": "869e437e-fb79-4ffc-b38d-03c191f0c0ac",
   "metadata": {},
   "outputs": [],
   "source": [
    "from collections import Counter\n",
    "sns.barplot(x='Element', y='Count', data=df_common_elements)\n",
    "plt.xticks(rotation='vertical')\n",
    "plt.show()"
   ]
  },
  {
   "cell_type": "code",
   "execution_count": null,
   "id": "0395fda5-4cc5-4261-9e3b-442348f822ae",
   "metadata": {},
   "outputs": [],
   "source": [
    "ham_corpus = []\n",
    "for msg in spam[spam['target'] == 0]['transformed_text'].tolist():\n",
    "    for word in msg.split():\n",
    "        ham_corpus.append(word)\n",
    "\n",
    "\n",
    "len(ham_corpus)"
   ]
  },
  {
   "cell_type": "code",
   "execution_count": null,
   "id": "cd0f7198-10e7-4654-9eaf-9358e3a2df42",
   "metadata": {},
   "outputs": [],
   "source": [
    "counter = Counter(ham_corpus)\n",
    "common_elements = counter.most_common(30)\n",
    "df_common_elements = pd.DataFrame(common_elements, columns=['Element', 'Count'])\n",
    "sns.barplot(x='Element', y='Count', data=df_common_elements)\n",
    "plt.xticks(rotation='vertical')\n",
    "plt.show()"
   ]
  },
  {
   "cell_type": "code",
   "execution_count": null,
   "id": "b31974aa-6f19-4b6d-8207-3a8b5322861b",
   "metadata": {},
   "outputs": [],
   "source": [
    "spam.head()"
   ]
  },
  {
   "cell_type": "raw",
   "id": "b61bbf97-1188-460c-aae0-ffcbeb9f4b25",
   "metadata": {},
   "source": [
    "MODEL BUILDING"
   ]
  },
  {
   "cell_type": "code",
   "execution_count": null,
   "id": "4bc8e9c0-1593-4aa8-ab7e-4aea8080969d",
   "metadata": {},
   "outputs": [],
   "source": [
    "from sklearn.feature_extraction.text import CountVectorizer,TfidfVectorizer\n",
    "cv = CountVectorizer()\n",
    "tfidf = TfidfVectorizer(max_features=3000)"
   ]
  },
  {
   "cell_type": "code",
   "execution_count": null,
   "id": "10f1729d-c13a-4184-970c-378179fb5a16",
   "metadata": {},
   "outputs": [],
   "source": [
    "X = tfidf.fit_transform(spam['transformed_text']).toarray()\n",
    "X.shape"
   ]
  },
  {
   "cell_type": "code",
   "execution_count": null,
   "id": "0621fd40-b1f3-4931-903b-7313e5dfbb9b",
   "metadata": {},
   "outputs": [],
   "source": [
    "y = spam['target'].values"
   ]
  },
  {
   "cell_type": "code",
   "execution_count": null,
   "id": "08afa685-12c9-42f0-b365-77daa0a0c03a",
   "metadata": {},
   "outputs": [],
   "source": [
    "y"
   ]
  },
  {
   "cell_type": "code",
   "execution_count": null,
   "id": "d20722bb-17c8-4dc9-a6a0-2ef0a9c2d5af",
   "metadata": {},
   "outputs": [],
   "source": [
    "from sklearn.model_selection import train_test_split\n",
    "X_train,X_test,y_train,y_test = train_test_split(X,y,test_size=0.2,random_state=2)\n",
    "from sklearn.naive_bayes import GaussianNB,MultinomialNB,BernoulliNB\n",
    "from sklearn.metrics import accuracy_score,confusion_matrix,precision_score\n"
   ]
  },
  {
   "cell_type": "code",
   "execution_count": null,
   "id": "4c207d06-4154-4ee7-bb31-2d5d3241225b",
   "metadata": {},
   "outputs": [],
   "source": [
    "gnb = GaussianNB()\n",
    "mnb = MultinomialNB()\n",
    "bnb = BernoulliNB()\n"
   ]
  },
  {
   "cell_type": "code",
   "execution_count": null,
   "id": "13ba68dc-e80b-4768-8134-2b9b26ea1b3f",
   "metadata": {},
   "outputs": [],
   "source": [
    "gnb.fit(X_train,y_train)\n",
    "y_pred1 = gnb.predict(X_test)\n"
   ]
  },
  {
   "cell_type": "code",
   "execution_count": null,
   "id": "ff28eab9-8db5-4e00-bbcb-3d66d8687a85",
   "metadata": {},
   "outputs": [],
   "source": [
    "print(accuracy_score(y_test,y_pred1))\n",
    "print(confusion_matrix(y_test,y_pred1))\n",
    "print(precision_score(y_test,y_pred1))"
   ]
  },
  {
   "cell_type": "code",
   "execution_count": null,
   "id": "52e79bfb-a53a-4246-8dfa-4d568dc4918c",
   "metadata": {},
   "outputs": [],
   "source": [
    "mnb.fit(X_train,y_train)\n",
    "y_pred2 = mnb.predict(X_test)\n",
    "print(accuracy_score(y_test,y_pred2))\n",
    "print(confusion_matrix(y_test,y_pred2))\n",
    "print(precision_score(y_test,y_pred2))"
   ]
  },
  {
   "cell_type": "code",
   "execution_count": null,
   "id": "b9d9cfa3-80b9-41b3-baa8-8c99c7836339",
   "metadata": {},
   "outputs": [],
   "source": [
    "bnb.fit(X_train,y_train)\n",
    "y_pred2 = bnb.predict(X_test)\n",
    "print(accuracy_score(y_test,y_pred2))\n",
    "print(confusion_matrix(y_test,y_pred2))\n",
    "print(precision_score(y_test,y_pred2))"
   ]
  },
  {
   "cell_type": "code",
   "execution_count": null,
   "id": "5318b0ac-c9c2-4175-8db0-cf3abcb3a0f0",
   "metadata": {},
   "outputs": [],
   "source": [
    "from sklearn.linear_model import LogisticRegression\n",
    "from sklearn.svm import SVC\n",
    "from sklearn.naive_bayes import MultinomialNB\n",
    "from sklearn.tree import DecisionTreeClassifier\n",
    "from sklearn.neighbors import KNeighborsClassifier\n",
    "from sklearn.ensemble import RandomForestClassifier\n",
    "from sklearn.ensemble import AdaBoostClassifier\n",
    "from sklearn.ensemble import BaggingClassifier\n",
    "from sklearn.ensemble import ExtraTreesClassifier\n",
    "from sklearn.ensemble import GradientBoostingClassifier\n",
    "from xgboost import XGBClassifier\n"
   ]
  },
  {
   "cell_type": "code",
   "execution_count": null,
   "id": "2ba18b30-8974-478a-8f01-dc5838ea0884",
   "metadata": {},
   "outputs": [],
   "source": [
    "svc = SVC(kernel='sigmoid', gamma=1.0)\n",
    "knc = KNeighborsClassifier()\n",
    "mnb = MultinomialNB()\n",
    "dtc = DecisionTreeClassifier(max_depth=5)\n",
    "lrc = LogisticRegression(solver='liblinear', penalty='l1')\n",
    "rfc = RandomForestClassifier(n_estimators=50, random_state=2)\n",
    "abc = AdaBoostClassifier(n_estimators=50, random_state=2)\n",
    "bc = BaggingClassifier(n_estimators=50, random_state=2)\n",
    "etc = ExtraTreesClassifier(n_estimators=50, random_state=2)\n",
    "gbdt = GradientBoostingClassifier(n_estimators=50,random_state=2)\n",
    "xgb = XGBClassifier(n_estimators=50,random_state=2)"
   ]
  },
  {
   "cell_type": "code",
   "execution_count": null,
   "id": "0073e976-f17d-42d5-ac08-9b85f3da4552",
   "metadata": {},
   "outputs": [],
   "source": [
    "clfs = {\n",
    "    'SVC' : svc,\n",
    "    'KN' : knc, \n",
    "    'NB': mnb, \n",
    "    'DT': dtc, \n",
    "    'LR': lrc, \n",
    "    'RF': rfc, \n",
    "    'AdaBoost': abc, \n",
    "    'BgC': bc, \n",
    "    'ETC': etc,\n",
    "    'GBDT':gbdt,\n",
    "    'xgb':xgb\n",
    "}"
   ]
  },
  {
   "cell_type": "code",
   "execution_count": null,
   "id": "ae471e68-1b3d-41f9-ac2c-f6145b2d9ed6",
   "metadata": {},
   "outputs": [],
   "source": [
    "def train_classifier(clf,X_train,y_train,X_test,y_test):\n",
    "    clf.fit(X_train,y_train)\n",
    "    y_pred = clf.predict(X_test)\n",
    "    accuracy = accuracy_score(y_test,y_pred)\n",
    "    precision = precision_score(y_test,y_pred)\n",
    "    \n",
    "    return accuracy,precision\n"
   ]
  },
  {
   "cell_type": "code",
   "execution_count": null,
   "id": "fae98e65-ea71-47b9-804f-8b216ff5175a",
   "metadata": {},
   "outputs": [],
   "source": [
    "train_classifier(svc,X_train,y_train,X_test,y_test)\n"
   ]
  },
  {
   "cell_type": "code",
   "execution_count": null,
   "id": "920d8e29-7acc-4b31-8f23-ac197d60d4e5",
   "metadata": {},
   "outputs": [],
   "source": [
    "accuracy_scores = []\n",
    "precision_scores = []\n",
    "\n",
    "for name,clf in clfs.items():\n",
    "    \n",
    "    current_accuracy,current_precision = train_classifier(clf, X_train,y_train,X_test,y_test)\n",
    "    \n",
    "    print(\"For \",name)\n",
    "    print(\"Accuracy - \",current_accuracy)\n",
    "    print(\"Precision - \",current_precision)\n",
    "    \n",
    "    accuracy_scores.append(current_accuracy)\n",
    "    precision_scores.append(current_precision)"
   ]
  },
  {
   "cell_type": "code",
   "execution_count": null,
   "id": "a5e91bfa-c50a-4ae4-a22c-0e09e5d7532e",
   "metadata": {},
   "outputs": [],
   "source": [
    "performance_df = pd.DataFrame({'Algorithm':clfs.keys(),'Accuracy':accuracy_scores,'Precision':precision_scores}).sort_values('Precision',ascending=False)\n",
    "performance_df"
   ]
  },
  {
   "cell_type": "code",
   "execution_count": null,
   "id": "54d2f0bf-08f2-4e91-963e-86a12d8b63db",
   "metadata": {},
   "outputs": [],
   "source": [
    "performance_df1 = pd.melt(performance_df, id_vars = \"Algorithm\")\n",
    "performance_df1"
   ]
  },
  {
   "cell_type": "code",
   "execution_count": null,
   "id": "c7b06727-14ac-4e42-b559-423d6705cc81",
   "metadata": {},
   "outputs": [],
   "source": [
    "sns.catplot(x = 'Algorithm', y='value', \n",
    "               hue = 'variable',data=performance_df1, kind='bar',height=5)\n",
    "plt.ylim(0.5,1.0)\n",
    "plt.xticks(rotation='vertical')\n",
    "plt.show()"
   ]
  },
  {
   "cell_type": "code",
   "execution_count": null,
   "id": "5ed0fa39-7d08-4d09-a391-78b152f2cf6e",
   "metadata": {},
   "outputs": [],
   "source": [
    "temp_df = pd.DataFrame({'Algorithm':clfs.keys(),'Accuracy_max_ft_3000':accuracy_scores,'Precision_max_ft_3000':precision_scores}).sort_values('Precision_max_ft_3000',ascending=False)\n",
    "temp_df = pd.DataFrame({'Algorithm':clfs.keys(),'Accuracy_scaling':accuracy_scores,'Precision_scaling':precision_scores}).sort_values('Precision_scaling',ascending=False)"
   ]
  },
  {
   "cell_type": "code",
   "execution_count": null,
   "id": "0bd42c0e-c6d3-488f-85ec-dcf8d95c257b",
   "metadata": {},
   "outputs": [],
   "source": [
    "new_df = performance_df.merge(temp_df,on='Algorithm')\n",
    "new_df_scaled = new_df.merge(temp_df,on='Algorithm')"
   ]
  },
  {
   "cell_type": "code",
   "execution_count": null,
   "id": "150f29fb-a7fb-43d9-bf58-fd1063d6f1c1",
   "metadata": {},
   "outputs": [],
   "source": [
    "temp_df = pd.DataFrame({'Algorithm':clfs.keys(),'Accuracy_num_chars':accuracy_scores,'Precision_num_chars':precision_scores}).sort_values('Precision_num_chars',ascending=False)\n",
    "new_df_scaled.merge(temp_df,on='Algorithm')"
   ]
  },
  {
   "cell_type": "code",
   "execution_count": null,
   "id": "fc5b5982-03a8-4699-8d50-3717024d14e4",
   "metadata": {},
   "outputs": [],
   "source": [
    "# Voting Classifier\n",
    "svc = SVC(kernel='sigmoid', gamma=1.0,probability=True)\n",
    "mnb = MultinomialNB()\n",
    "etc = ExtraTreesClassifier(n_estimators=50, random_state=2)\n",
    "\n",
    "from sklearn.ensemble import VotingClassifier"
   ]
  },
  {
   "cell_type": "code",
   "execution_count": null,
   "id": "0b9b84aa-c2e9-4753-9545-9bc1af41e76b",
   "metadata": {},
   "outputs": [],
   "source": [
    "voting = VotingClassifier(estimators=[('svm', svc), ('nb', mnb), ('et', etc)],voting='soft')\n",
    "voting.fit(X_train,y_train)"
   ]
  },
  {
   "cell_type": "code",
   "execution_count": null,
   "id": "c0cf2d55-cf5f-4b61-a732-6c7f8126f7b8",
   "metadata": {},
   "outputs": [],
   "source": [
    "y_pred = voting.predict(X_test)\n",
    "print(\"Accuracy\",accuracy_score(y_test,y_pred))\n",
    "print(\"Precision\",precision_score(y_test,y_pred))"
   ]
  },
  {
   "cell_type": "code",
   "execution_count": null,
   "id": "51fa00f4-575d-4523-8923-2d25d90c515a",
   "metadata": {},
   "outputs": [],
   "source": [
    "# Applying stacking\n",
    "estimators=[('svm', svc), ('nb', mnb), ('et', etc)]\n",
    "final_estimator=RandomForestClassifier()"
   ]
  },
  {
   "cell_type": "code",
   "execution_count": null,
   "id": "a660471e-6e76-4a96-9b34-7052bad5195f",
   "metadata": {},
   "outputs": [],
   "source": [
    "from sklearn.ensemble import StackingClassifier\n",
    "clf = StackingClassifier(estimators=estimators, final_estimator=final_estimator)\n",
    "clf.fit(X_train,y_train)\n",
    "y_pred = clf.predict(X_test)\n",
    "print(\"Accuracy\",accuracy_score(y_test,y_pred))\n",
    "print(\"Precision\",precision_score(y_test,y_pred))"
   ]
  },
  {
   "cell_type": "code",
   "execution_count": null,
   "id": "fe9cbc1c-f763-46d3-9f01-a19db4c95e55",
   "metadata": {},
   "outputs": [],
   "source": [
    "import pickle\n",
    "pickle.dump(tfidf,open('vectorizer1.pkl','wb'))\n",
    "pickle.dump(mnb,open('model1.pkl','wb'))"
   ]
  },
  {
   "cell_type": "code",
   "execution_count": null,
   "id": "ee3121a1-57e1-4954-b94f-66e04df66526",
   "metadata": {},
   "outputs": [],
   "source": [
    "model = pickle.load(open('model1.pkl','rb'))\n",
    "vectorizer = pickle.load(open('vectorizer1.pkl','rb'))"
   ]
  },
  {
   "cell_type": "code",
   "execution_count": null,
   "id": "d11240fd",
   "metadata": {},
   "outputs": [],
   "source": []
  }
 ],
 "metadata": {
  "kernelspec": {
   "display_name": "base",
   "language": "python",
   "name": "python3"
  },
  "language_info": {
   "codemirror_mode": {
    "name": "ipython",
    "version": 3
   },
   "file_extension": ".py",
   "mimetype": "text/x-python",
   "name": "python",
   "nbconvert_exporter": "python",
   "pygments_lexer": "ipython3",
   "version": "3.11.7"
  },
  "widgets": {
   "application/vnd.jupyter.widget-state+json": {
    "state": {},
    "version_major": 2,
    "version_minor": 0
   }
  }
 },
 "nbformat": 4,
 "nbformat_minor": 5
}
